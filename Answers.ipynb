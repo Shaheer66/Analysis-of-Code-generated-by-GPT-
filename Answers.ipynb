{
  "nbformat": 4,
  "nbformat_minor": 0,
  "metadata": {
    "colab": {
      "provenance": []
    },
    "kernelspec": {
      "name": "python3",
      "display_name": "Python 3"
    },
    "language_info": {
      "name": "python"
    }
  },
  "cells": [
    {
      "cell_type": "markdown",
      "source": [
        "# **PART 1 Analysis of given code**"
      ],
      "metadata": {
        "id": "TCsETlWW6YfD"
      }
    },
    {
      "cell_type": "markdown",
      "source": [
        "## Analyse the ChatGPT output by answering the following 9 Questions"
      ],
      "metadata": {
        "id": "UKX02E3vLcN7"
      }
    },
    {
      "cell_type": "markdown",
      "source": [
        "### **Data Types**"
      ],
      "metadata": {
        "id": "bHARFlca6wIv"
      }
    },
    {
      "cell_type": "markdown",
      "source": [
        "**1. Which data types would be accepted by the function count_crossings_and_nestings for the argument arcs? Would a set work?**"
      ],
      "metadata": {
        "id": "DI1GDgfC64sD"
      }
    },
    {
      "cell_type": "markdown",
      "source": [
        "The function 'count_crossings_and_nestings' expects the argument 'arcs' to be a list of tuples, where each tuple represents an arc. So, a set would not work directly as an argument for this function because sets are unordered collections and do not guarantee the order of elements."
      ],
      "metadata": {
        "id": "mTI-hSNw72Ty"
      }
    },
    {
      "cell_type": "markdown",
      "source": [
        "**2. What does the function return? What data type is it?**"
      ],
      "metadata": {
        "id": "dVpI5_vr8Qq2"
      }
    },
    {
      "cell_type": "markdown",
      "source": [
        "The function returns a tuple containing the counts of crossings and nestings. Each of these values can then be assigned to separate variables ('crossings' and 'nestings') using tuple unpacking.\n",
        "\n",
        "The data type of the returned value is a tuple. In Python, a tuple is an immutable ordered collection of elements. Let me know if you need further clarification or assistance!"
      ],
      "metadata": {
        "id": "X6Mq6AX08UuO"
      }
    },
    {
      "cell_type": "markdown",
      "source": [
        "### **Test Cases**"
      ],
      "metadata": {
        "id": "cQH9DUyp-Ic3"
      }
    },
    {
      "cell_type": "markdown",
      "source": [
        "**1. Run the example suggested by ChatGPT. Is the function count_crossings_and_nestings working as expected?**"
      ],
      "metadata": {
        "id": "URQ4mVmu-QnQ"
      }
    },
    {
      "cell_type": "markdown",
      "source": [
        "Yes, after running the ChaptGPT suggested example the function works as expected."
      ],
      "metadata": {
        "id": "ooWhGekR-dLi"
      }
    },
    {
      "cell_type": "markdown",
      "source": [
        "**2. Try computing nestings and crossings with the smallest examples {}, {(0, 1)}, {(0, 1), (2, 3)}, {(0,3), (1, 2)} and {(0,2), (1, 3)}. Does the output work?**"
      ],
      "metadata": {
        "id": "jTAp4tIdCr3d"
      }
    },
    {
      "cell_type": "markdown",
      "source": [
        "After running all these examples the function works as expected and gave the correct output as expected. But the function does not return the correct output for [(0,2),(1,3)]. The desired output was:\n",
        "\n",
        "Crossings: 1\n",
        "\n",
        "Nestings: 1\n",
        "\n",
        "But the function outputs:\n",
        "\n",
        "Crossings: 1\n",
        "\n",
        "Nestings: 0"
      ],
      "metadata": {
        "id": "8vT6_EdQC4V2"
      }
    },
    {
      "cell_type": "markdown",
      "source": [
        "**3. For diagrams with three arcs, there are 15 possibilities. Find one for which the function count crossings_and_nestings provides a wrong result. Print the result and draw the corresponding diagram.**"
      ],
      "metadata": {
        "id": "zB-YC7XoD8Ar"
      }
    },
    {
      "cell_type": "markdown",
      "source": [],
      "metadata": {
        "id": "f9_9ks_DECoy"
      }
    },
    {
      "cell_type": "markdown",
      "source": [
        "### **First Problem**"
      ],
      "metadata": {
        "id": "SQ38CkDRFrqk"
      }
    },
    {
      "cell_type": "markdown",
      "source": [
        "**1. The first problem is related to the variable n and its value. Explain what goes wrong.**"
      ],
      "metadata": {
        "id": "_Ck2-VhSFzDP"
      }
    },
    {
      "cell_type": "markdown",
      "source": [
        "In the provided code, the variable 'n' is calculated as the length of the 'arcs' list divided by 2. This calculation assumes that each arc in the list is represented by a tuple containing a start and end point. However, if the 'arcs' list contains duplicate arcs or arcs are not represented correctly, this assumption may lead to incorrect results.\n",
        "\n",
        "For example, if the 'arcs' list contains duplicate arcs or arcs that are not represented in the correct order (i.e., the start point is greater than the end point), the calculation of 'n' will not accurately represent the number of arcs in the diagram. This can lead to incorrect counts of crossings and nestings.\n",
        "\n",
        "To fix this issue, it's important to ensure that the 'arcs' list contains valid arc representations, where each arc is a tuple '(start, end)' with 'start' less than 'end', and that there are no duplicate arcs in the list. Additionally, it may be beneficial to validate the input arcs before performing calculations to ensure accurate results."
      ],
      "metadata": {
        "id": "KRfeurP_GcGT"
      }
    },
    {
      "cell_type": "markdown",
      "source": [
        "**2. Provide a better implementation of the function, avoiding the use of n. Use the same function name i.e. count_crossings_and_nestings.**"
      ],
      "metadata": {
        "id": "dUW490alIFKU"
      }
    },
    {
      "cell_type": "code",
      "source": [
        "def count_crossings_and_nestings(arcs):\n",
        "    crossings = 0\n",
        "    nestings = 0\n",
        "\n",
        "    for i in range(len(arcs)):\n",
        "        for j in range(i + 1, len(arcs)):\n",
        "            arc_i_start, arc_i_end = arcs[i]\n",
        "            arc_j_start, arc_j_end = arcs[j]\n",
        "\n",
        "            # Check for crossings\n",
        "            if arc_i_start < arc_j_start < arc_i_end < arc_j_end or \\\n",
        "               arc_j_start < arc_i_start < arc_j_end < arc_i_end:\n",
        "                crossings += 1\n",
        "\n",
        "            # Check for nestings\n",
        "            if arc_i_start < arc_j_start < arc_j_end < arc_i_end or \\\n",
        "               arc_j_start < arc_i_start < arc_i_end < arc_j_end:\n",
        "                nestings += 1\n",
        "\n",
        "    return crossings, nestings"
      ],
      "metadata": {
        "id": "gydof5jgD_2o"
      },
      "execution_count": 2,
      "outputs": []
    },
    {
      "cell_type": "markdown",
      "source": [
        "### **Second Problem**"
      ],
      "metadata": {
        "id": "URlSSv5eIEOe"
      }
    },
    {
      "cell_type": "markdown",
      "source": [
        "**1. Run your improved function on {(1,4),(0,6),(3,5),(2,9),(7,8)}. Is the output what you expect?**"
      ],
      "metadata": {
        "id": "mds3Y45pIfRf"
      }
    },
    {
      "cell_type": "code",
      "source": [
        "def count_crossings_and_nestings(arcs):\n",
        "    crossings = 0\n",
        "    nestings = 0\n",
        "\n",
        "    for i in range(len(arcs)):\n",
        "        for j in range(i + 1, len(arcs)):\n",
        "            arc_i_start, arc_i_end = arcs[i]\n",
        "            arc_j_start, arc_j_end = arcs[j]\n",
        "\n",
        "            # Check for crossings\n",
        "            if arc_i_start < arc_j_start < arc_i_end < arc_j_end or \\\n",
        "               arc_j_start < arc_i_start < arc_j_end < arc_i_end:\n",
        "                crossings += 1\n",
        "\n",
        "            # Check for nestings\n",
        "            if arc_i_start < arc_j_start < arc_j_end < arc_i_end or \\\n",
        "               arc_j_start < arc_i_start < arc_i_end < arc_j_end:\n",
        "                nestings += 1\n",
        "\n",
        "    return crossings, nestings\n",
        "\n",
        "arcs = [(1, 4), (0, 6), (3, 5), (2, 9), (7, 8)]\n",
        "crossings, nestings = count_crossings_and_nestings(arcs)\n",
        "\n",
        "print(f\"Number of crossings: {crossings}\")\n",
        "print(f\"Number of nestings: {nestings}\")\n",
        "\n",
        "\n",
        "#Expected Output is:-\n",
        "#Number of crossings: 3\n",
        "#Number of nestings: 4\n",
        "\n",
        "#Yes the improved code works as expected."
      ],
      "metadata": {
        "colab": {
          "base_uri": "https://localhost:8080/"
        },
        "id": "4iXl7djEIdaA",
        "outputId": "837531fa-bceb-4919-8d55-f4fb41500ca2"
      },
      "execution_count": 6,
      "outputs": [
        {
          "output_type": "stream",
          "name": "stdout",
          "text": [
            "Number of crossings: 3\n",
            "Number of nestings: 4\n"
          ]
        }
      ]
    },
    {
      "cell_type": "markdown",
      "source": [
        "**2. Find the problem and fix it, writing a correct version of the function. Again, use the same function name, i.e., count_crossings_and_nestings. Demonstrate that the new version works by testing it on the example from Question 8 above.**"
      ],
      "metadata": {
        "id": "d7LVOSO3KGVJ"
      }
    },
    {
      "cell_type": "code",
      "source": [
        "#There is no problem with this function\n",
        "\n",
        "def count_crossings_and_nestings(arcs):\n",
        "    crossings = 0\n",
        "    nestings = 0\n",
        "\n",
        "    for i in range(len(arcs)):\n",
        "        for j in range(i + 1, len(arcs)):\n",
        "            arc_i_start, arc_i_end = arcs[i]\n",
        "            arc_j_start, arc_j_end = arcs[j]\n",
        "\n",
        "            # Check for crossings\n",
        "            if arc_i_start < arc_j_start < arc_i_end < arc_j_end or \\\n",
        "               arc_j_start < arc_i_start < arc_j_end < arc_i_end:\n",
        "                crossings += 1\n",
        "\n",
        "            # Check for nestings\n",
        "            if arc_i_start < arc_j_start < arc_j_end < arc_i_end or \\\n",
        "               arc_j_start < arc_i_start < arc_i_end < arc_j_end:\n",
        "                nestings += 1\n",
        "\n",
        "    return crossings, nestings\n",
        "\n",
        "arcs = [(1, 4), (0, 6), (3, 5), (2, 9), (7, 8)]\n",
        "crossings, nestings = count_crossings_and_nestings(arcs)\n",
        "\n",
        "print(f\"Number of crossings: {crossings}\")\n",
        "print(f\"Number of nestings: {nestings}\")\n",
        "\n",
        "\n",
        "#Expected Output is:-\n",
        "#Number of crossings: 3\n",
        "#Number of nestings: 4\n",
        "\n",
        "#Yes the improved code works as expected."
      ],
      "metadata": {
        "colab": {
          "base_uri": "https://localhost:8080/"
        },
        "id": "xX46LOXXI5fr",
        "outputId": "fcceda0d-f07a-4481-9513-d663a5d4a759"
      },
      "execution_count": 7,
      "outputs": [
        {
          "output_type": "stream",
          "name": "stdout",
          "text": [
            "Number of crossings: 3\n",
            "Number of nestings: 4\n"
          ]
        }
      ]
    },
    {
      "cell_type": "markdown",
      "source": [
        "## Now write a well-documented version of your function count_crossings_and_nestings. Add a document string and plenty of comments."
      ],
      "metadata": {
        "id": "7ogQmfTBL3OI"
      }
    },
    {
      "cell_type": "code",
      "source": [
        "def count_crossings_and_nestings(arcs):\n",
        "    \"\"\"\n",
        "    Count the number of crossings and nestings in an arc diagram.\n",
        "\n",
        "    Parameters:\n",
        "        arcs (list of tuples): A list of arcs, where each arc is represented as a tuple (start, end).\n",
        "                               The start and end points must be integers and follow the order: start < end.\n",
        "\n",
        "    Returns:\n",
        "        tuple: A tuple containing the counts of crossings and nestings, respectively.\n",
        "\n",
        "    Algorithm:\n",
        "        1. Initialize counters for crossings and nestings.\n",
        "        2. Iterate over each pair of arcs in the arcs list.\n",
        "        3. For each pair of arcs, extract the start and end points.\n",
        "        4. Check for crossings:\n",
        "            - If the start point of arc i is between the start and end points of arc j,\n",
        "              and the end point of arc i is greater than the end point of arc j, or vice versa,\n",
        "              increment the crossings counter.\n",
        "        5. Check for nestings:\n",
        "            - If the start point of arc i is less than the start point of arc j,\n",
        "              and the end point of arc i is greater than the end point of arc j, or vice versa,\n",
        "              increment the nestings counter.\n",
        "        6. Return the counts of crossings and nestings.\n",
        "\n",
        "    Example:\n",
        "        arcs = [(0, 3), (1, 2), (4, 7), (5, 6), (8, 11), (9, 10), (12, 15), (13, 14)]\n",
        "        crossings, nestings = count_crossings_and_nestings(arcs)\n",
        "        print(f\"Number of crossings: {crossings}\")\n",
        "        print(f\"Number of nestings: {nestings}\")\n",
        "\n",
        "    \"\"\"\n",
        "    crossings = 0\n",
        "    nestings = 0\n",
        "\n",
        "    # Iterate over each pair of arcs\n",
        "    for i in range(len(arcs)):\n",
        "        for j in range(i + 1, len(arcs)):\n",
        "            # Extract start and end points of arcs i and j\n",
        "            arc_i_start, arc_i_end = arcs[i]\n",
        "            arc_j_start, arc_j_end = arcs[j]\n",
        "\n",
        "            # Check for crossings\n",
        "            if arc_i_start < arc_j_start < arc_i_end < arc_j_end or \\\n",
        "               arc_j_start < arc_i_start < arc_j_end < arc_i_end:\n",
        "                crossings += 1\n",
        "\n",
        "            # Check for nestings\n",
        "            if arc_i_start < arc_j_start < arc_j_end < arc_i_end or \\\n",
        "               arc_j_start < arc_i_start < arc_i_end < arc_j_end:\n",
        "                nestings += 1\n",
        "\n",
        "    return crossings, nestings\n"
      ],
      "metadata": {
        "id": "Cy7WoP9hLAzl"
      },
      "execution_count": 8,
      "outputs": []
    },
    {
      "cell_type": "markdown",
      "source": [
        "## What you can say about the computational complexity of count_crossings_and_nestings? Discuss how run time and memory requirements grow as the number n of arcs increases. Give reasons."
      ],
      "metadata": {
        "id": "n5U9SPzrMyRQ"
      }
    },
    {
      "cell_type": "markdown",
      "source": [
        "The computational complexity of the count_crossings_and_nestings function can be analyzed as follows:\n",
        "\n",
        "1. Time Complexity:\n",
        "* The function uses nested loops to iterate over all pairs of arcs in the 'arcs' list.\n",
        "* Let n denote the number of arcs in the 'arcs' list.\n",
        "* The outer loop runs from 0 to n - 1, and the inner loop runs from i + 1 to n - 1.\n",
        "* For each pair of arcs, the function performs constant-time operations to extract start and end points and checks for crossings and nestings.\n",
        "* Therefore, the time complexity of the function is approximately O(n^2) where n is the number of arcs.\n",
        "2. Space Complexity:\n",
        "* The function uses a constant amount of additional space to store counters for crossings and nestings.\n",
        "* Therefore, the space complexity of the function is O(1).\n",
        "\n",
        "As the number n of arcs increases:\n",
        "\n",
        "* The runtime of the function grows quadratically with n. This means that for large values of n, the function may take significantly longer to execute.\n",
        "* The memory requirements of the function remain constant, as it does not depend on the size of the input arcs.\n",
        "\n",
        "Reasons for the observed time complexity:\n",
        "\n",
        "* The nested loops iterate over all pairs of arcs, resulting in a quadratic time complexity.\n",
        "* The number of comparisons performed for each pair of arcs is constant, so the overall time complexity is dominated by the nested loops.\n",
        "\n",
        "In summary, as the number of arcs increases, the runtime of the function grows quadratically, making it less efficient for large inputs. However, the memory requirements remain constant regardless of the input size.\n",
        "\n",
        "\n",
        "\n",
        "\n",
        "\n",
        "\n"
      ],
      "metadata": {
        "id": "6HNAj1uKNjdA"
      }
    },
    {
      "cell_type": "markdown",
      "source": [
        "## The numpy module contains functions to generate random permutations. Given a non-negative integer n, every permutation of 2n numbers can be turned into a matching by taking the first half of the permutation entries (i.e., the first n numbers) and connecting each of them to the corresponding entry in the second half (i.e., the last n numbers). Use this method to write a function random_matching that takes an integer n as input and returns a randomly selected matching of 2n numbers in the form of a list of n tuples, where each tuple contains two integers.\n",
        "## Note: Ensure that the tuples are returned such that the first integer is less than the second integer.\n",
        "## To demonstrate that your code works, draw the arc diagrams for five randomly chosen matchings of 20 numbers."
      ],
      "metadata": {
        "id": "TH-918ApRlcA"
      }
    },
    {
      "cell_type": "code",
      "source": [
        "import numpy as np\n",
        "\n",
        "import matplotlib.pyplot as plt\n",
        "import matplotlib.patches as patches\n",
        "\n",
        "\n",
        "def draw_arc_diagram(arcs, title=True):\n",
        "    \"\"\"\n",
        "    Draw an arc diagram specified by a list of ordered pairs of matching points.\n",
        "\n",
        "    Parameters:\n",
        "    arcs (list of tuples): The list/set of matching pairs of points, expected in canonical order (i < j) and such that every integer 0, 1, 2*len(arcs) - 1 occurs exactly once.\n",
        "    title (bool): Whether or not the set of arcs should be displayed as text.\n",
        "\n",
        "    Returns:\n",
        "    None\n",
        "    \"\"\"\n",
        "    plt.figure(figsize=(4.5, 2))\n",
        "    plt.plot([0 for _ in range(2 * len(arcs))], \"o\")\n",
        "    for arc in arcs:\n",
        "        plt.gca().add_patch(\n",
        "            # patches.FancyArrowPatch((arc[0], 0), (arc[1], 0), connectionstyle=\"angle3,angleA=55,angleB=-55\"))\n",
        "            patches.FancyArrowPatch((arc[0], 0), (arc[1], 0), connectionstyle=\"arc3,rad=0.3\", arrowstyle=\"->\"))\n",
        "    plt.gca().axis(\"off\")\n",
        "    if title:\n",
        "        plt.title(arcs, y=-0.2)\n",
        "    plt.show()\n",
        "\n",
        "\n",
        "def random_matching(n):\n",
        "    \"\"\"\n",
        "    Generate a randomly selected matching of 2n numbers.\n",
        "\n",
        "    Parameters:\n",
        "        n (int): Non-negative integer representing half the number of elements in the matching.\n",
        "\n",
        "    Returns:\n",
        "        list of tuples: A list of n tuples, each containing two integers representing a matching pair.\n",
        "\n",
        "    \"\"\"\n",
        "    # Generate a random permutation of 2n numbers\n",
        "    permutation = np.random.permutation(2 * n)\n",
        "\n",
        "    # Create the matching pairs\n",
        "    matching = [(permutation[i], permutation[i + n]) for i in range(n)]\n",
        "\n",
        "    return matching\n",
        "\n",
        "\n",
        "# Draw arc diagrams for five randomly chosen matchings of 20 numbers\n",
        "for _ in range(5):\n",
        "    # Generate a random matching of 20 numbers\n",
        "    matching = random_matching(10)\n",
        "\n",
        "    # Draw the arc diagram\n",
        "    draw_arc_diagram(matching)\n"
      ],
      "metadata": {
        "colab": {
          "base_uri": "https://localhost:8080/",
          "height": 1000
        },
        "id": "3ovWfGNtNNyF",
        "outputId": "cae7ba3b-cedd-41db-93d5-6276e4aed03d"
      },
      "execution_count": 9,
      "outputs": [
        {
          "output_type": "display_data",
          "data": {
            "text/plain": [
              "<Figure size 450x200 with 1 Axes>"
            ],
            "image/png": "[encoded data removed]"
          },
          "metadata": {}
        },
        {
          "output_type": "display_data",
          "data": {
            "text/plain": [
              "<Figure size 450x200 with 1 Axes>"
            ],
            "image/png": "[encoded data removed]"
          },
          "metadata": {}
        },
        {
          "output_type": "display_data",
          "data": {
            "text/plain": [
              "<Figure size 450x200 with 1 Axes>"
            ],
            "image/png": "[encoded data removed]"
          },
          "metadata": {}
        },
        {
          "output_type": "display_data",
          "data": {
            "text/plain": [
              "<Figure size 450x200 with 1 Axes>"
            ],
            "image/png": "[encoded data removed]"
          },
          "metadata": {}
        },
        {
          "output_type": "display_data",
          "data": {
            "text/plain": [
              "<Figure size 450x200 with 1 Axes>"
            ],
            "image/png": "[encoded data removed]"
          },
          "metadata": {}
        }
      ]
    },
    {
      "cell_type": "markdown",
      "source": [
        "## The module timeit (imported above) allows you to compute the time a function call takes. Verify your answer about the time complexity from Example [1.3] by computing the run time for randomly chosen arc diagrams of suitable sizes and producing an appropriate plot of the average run times against the lengths of the matchings."
      ],
      "metadata": {
        "id": "mmtV5EIVTwGH"
      }
    },
    {
      "cell_type": "code",
      "source": [
        "import numpy as np\n",
        "import timeit\n",
        "import matplotlib.pyplot as plt\n",
        "\n",
        "\n",
        "# Function to generate a randomly selected matching of 2n numbers\n",
        "def random_matching(n):\n",
        "    \"\"\"\n",
        "    Generate a randomly selected matching of 2n numbers.\n",
        "\n",
        "    Parameters:\n",
        "        n (int): Non-negative integer representing half the number of elements in the matching.\n",
        "\n",
        "    Returns:\n",
        "        list of tuples: A list of n tuples, each containing two integers representing a matching pair.\n",
        "\n",
        "    \"\"\"\n",
        "    permutation = np.random.permutation(2 * n)\n",
        "    matching = [(permutation[i], permutation[i + n]) for i in range(n)]\n",
        "    return matching\n",
        "\n",
        "\n",
        "# Function to count the number of crossings and nestings in an arc diagram\n",
        "def count_crossings_and_nestings(arcs):\n",
        "    crossings = 0\n",
        "    nestings = 0\n",
        "\n",
        "    for i in range(len(arcs)):\n",
        "        for j in range(i + 1, len(arcs)):\n",
        "            arc_i_start, arc_i_end = arcs[i]\n",
        "            arc_j_start, arc_j_end = arcs[j]\n",
        "\n",
        "            # Check for crossings\n",
        "            if arc_i_start < arc_j_start < arc_i_end < arc_j_end or \\\n",
        "                    arc_j_start < arc_i_start < arc_j_end < arc_i_end:\n",
        "                crossings += 1\n",
        "\n",
        "            # Check for nestings\n",
        "            if arc_i_start < arc_j_start < arc_j_end < arc_i_end or \\\n",
        "                    arc_j_start < arc_i_start < arc_i_end < arc_j_end:\n",
        "                nestings += 1\n",
        "\n",
        "    return crossings, nestings\n",
        "\n",
        "\n",
        "# Function to compute the average run time for a given matching size\n",
        "def average_run_time(matching_size, num_samples=100):\n",
        "    setup_code = f\"\"\"\n",
        "from __main__ import random_matching, count_crossings_and_nestings\n",
        "matching = random_matching({matching_size})\n",
        "\"\"\"\n",
        "    time_taken = timeit.timeit(stmt=\"count_crossings_and_nestings(matching)\",\n",
        "                               setup=setup_code,\n",
        "                               number=num_samples)\n",
        "    return time_taken / num_samples\n",
        "\n",
        "\n",
        "# List of matching sizes to test\n",
        "matching_sizes = [10, 20, 30, 40, 50]\n",
        "\n",
        "# Compute average run times for each matching size\n",
        "average_times = [average_run_time(size) for size in matching_sizes]\n",
        "\n",
        "# Plot the results\n",
        "plt.plot(matching_sizes, average_times, marker='o')\n",
        "plt.title(\"Average Run Time vs Matching Size\")\n",
        "plt.xlabel(\"Matching Size\")\n",
        "plt.ylabel(\"Average Run Time (seconds)\")\n",
        "plt.grid(True)\n",
        "plt.show()\n"
      ],
      "metadata": {
        "colab": {
          "base_uri": "https://localhost:8080/",
          "height": 472
        },
        "id": "Ks16uSOATnmz",
        "outputId": "61f70201-586f-42e6-dc1c-70a87d869108"
      },
      "execution_count": 12,
      "outputs": [
        {
          "output_type": "display_data",
          "data": {
            "text/plain": [
              "<Figure size 640x480 with 1 Axes>"
            ],
            "image/png": "[encoded data removed]"
          },
          "metadata": {}
        }
      ]
    },
    {
      "cell_type": "markdown",
      "source": [
        "## Now that you understand the code well, here is an alternative function written by some crazy Python programmer who loves to write one-line lambda functions.\n",
        "\n",
        "countcrossnest = lambda arcs: tuple(map(sum, zip(*([(False, False)]+[(i<k<j<l or k<i<l<j,i<k<l<j or k<i<j<l) for _,(i,j) in enumerate(arcs) for k,l in arcs[_+1:]]))))\n",
        "\n",
        "## Note: You should use this correctly working one-line function to verify your work from Exercise [1.1]. If there is a mismatch, go back!"
      ],
      "metadata": {
        "id": "2NSe8palWI4l"
      }
    },
    {
      "cell_type": "code",
      "source": [
        "# Original implementation of count_crossings_and_nestings\n",
        "def count_crossings_and_nestings(arcs):\n",
        "    crossings = 0\n",
        "    nestings = 0\n",
        "\n",
        "    for i in range(len(arcs)):\n",
        "        for j in range(i + 1, len(arcs)):\n",
        "            arc_i_start, arc_i_end = arcs[i]\n",
        "            arc_j_start, arc_j_end = arcs[j]\n",
        "\n",
        "            # Check for crossings\n",
        "            if arc_i_start < arc_j_start < arc_i_end < arc_j_end or \\\n",
        "               arc_j_start < arc_i_start < arc_j_end < arc_i_end:\n",
        "                crossings += 1\n",
        "\n",
        "            # Check for nestings\n",
        "            if arc_i_start < arc_j_start < arc_j_end < arc_i_end or \\\n",
        "               arc_j_start < arc_i_start < arc_i_end < arc_j_end:\n",
        "                nestings += 1\n",
        "\n",
        "    return crossings, nestings\n",
        "\n",
        "# One-line lambda function\n",
        "countcrossnest = lambda arcs: tuple(map(sum, zip(*([(False, False)]+[(i<k<j<l or k<i<l<j,i<k<l<j or k<i<j<l) for _,(i,j) in enumerate(arcs) for k,l in arcs[_+1:]]))))\n",
        "\n",
        "# Test the functions with the same arcs\n",
        "arcs = [(0, 3), (1, 2), (4, 7), (5, 6), (8, 11), (9, 10), (12, 15), (13, 14)]\n",
        "\n",
        "# Test the original implementation\n",
        "crossings_orig, nestings_orig = count_crossings_and_nestings(arcs)\n",
        "\n",
        "# Test the one-line lambda function\n",
        "crossings_lambda, nestings_lambda = countcrossnest(arcs)\n",
        "\n",
        "# Print the results\n",
        "print(\"Original implementation:\")\n",
        "print(\"Number of crossings:\", crossings_orig)\n",
        "print(\"Number of nestings:\", nestings_orig)\n",
        "print()\n",
        "print(\"One-line lambda function:\")\n",
        "print(\"Number of crossings:\", crossings_lambda)\n",
        "print(\"Number of nestings:\", nestings_lambda)\n",
        "\n",
        "# Check if there is any mismatch\n",
        "if (crossings_orig, nestings_orig) == (crossings_lambda, nestings_lambda):\n",
        "    print(\"Both implementations produce the same results.\")\n",
        "else:\n",
        "    print(\"There is a mismatch between the implementations.\")\n"
      ],
      "metadata": {
        "id": "kB4VkahiWHq4"
      },
      "execution_count": null,
      "outputs": []
    },
    {
      "cell_type": "markdown",
      "source": [
        "**1. Explain what is computed in [(i<k<j<1 or k<i<l<j,i<k<l<j or k<i<j<l) for(i,j) in enumerate(arcs) for k,l in arcs[_+1:]].**"
      ],
      "metadata": {
        "id": "FSUn7TA3WxDW"
      }
    },
    {
      "cell_type": "markdown",
      "source": [
        "The expression [(i < k < j < l or k < i < l < j, i < k < l < j or k < i < j < l) for (i, j) in enumerate(arcs) for k, l in arcs[_ + 1:]] computes a list of tuples, where each tuple contains two Boolean values. These Boolean values represent whether the arcs indexed by (i, j) and (k, l) are crossing and nesting, respectively. Here's how it works:\n",
        "* for (i, j) in enumerate(arcs): This loop iterates over each arc (i, j) in the arcs list, where i and j are the start and end points of the arc.\n",
        "* for k, l in arcs[_ + 1:]: This nested loop iterates over each arc (k, l) in the arcs list, starting from the arc after the current arc (i, j). This prevents duplicate comparisons and ensures that each pair of arcs is considered only once.\n",
        "* (i < k < j < l or k < i < l < j, i < k < l < j or k < i < j < l): This expression evaluates to a tuple containing two Boolean values. The first value indicates whether the arcs (i, j) and (k, l) are crossing, and the second value indicates whether they are nesting. The conditions i < k < j < l and k < i < l < j check for crossings, while the conditions i < k < l < j and k < i < j < l check for nestings."
      ],
      "metadata": {
        "id": "wIDk4xu8W20v"
      }
    },
    {
      "cell_type": "markdown",
      "source": [
        "**2. Explain why tuple (map(sum, zip(...))) returns the number of crossings and nestings.**"
      ],
      "metadata": {
        "id": "WPZcctQuXMPL"
      }
    },
    {
      "cell_type": "markdown",
      "source": [
        "The zip(*...) expression transposes the list of tuples obtained from the previous step, effectively grouping the Boolean values for crossings and nestings separately. The map(sum, ...) function then applies the sum function to each group, resulting in a tuple containing the counts of crossings and nestings. Here's how it works:\n",
        "* zip(*...): This function takes the list of tuples and groups the Boolean values for crossings and nestings separately. This results in two lists, each containing the Boolean values for crossings and nestings, respectively.\n",
        "* map(sum, ...): This function applies the sum function to each group of Boolean values. Since True is treated as 1 and False as 0 when summed, this effectively counts the number of True values in each group, which correspond to the number of crossings and nestings, respectively."
      ],
      "metadata": {
        "id": "rCLgy0KnXTUy"
      }
    },
    {
      "cell_type": "markdown",
      "source": [
        "**3. What is the purpose of writing [(False, False)]+ ? Could one not simply omit this?**"
      ],
      "metadata": {
        "id": "vJXqo6mvXjew"
      }
    },
    {
      "cell_type": "markdown",
      "source": [
        "The purpose of writing [(False, False)] + ... is to include a default value of (False, False) at the beginning of the list of tuples. This ensures that if the arcs list is empty, the result will still be a tuple (0, 0), indicating zero crossings and nestings. Without this default value, if the arcs list is empty, the result of zip(*...) would be an empty list, and map(sum, ...) would produce an empty tuple, which may not be desirable. Therefore, including a default value ensures that the function always returns a valid result, even for empty input."
      ],
      "metadata": {
        "id": "QKwpYQK9XleY"
      }
    },
    {
      "cell_type": "markdown",
      "source": [
        "## Compare the time complexity of count_crossings_and_nestings and countcrossnest, using appropriate testing parameters and a suitable visualization."
      ],
      "metadata": {
        "id": "xWl-kFAnbO31"
      }
    },
    {
      "cell_type": "code",
      "source": [
        "import timeit\n",
        "import numpy as np\n",
        "import matplotlib.pyplot as plt\n",
        "\n",
        "\n",
        "def random_matching(n):\n",
        "    \"\"\"\n",
        "    Generate a randomly selected matching of 2n numbers.\n",
        "\n",
        "    Parameters:\n",
        "        n (int): Non-negative integer representing half the number of elements in the matching.\n",
        "\n",
        "    Returns:\n",
        "        list of tuples: A list of n tuples, each containing two integers representing a matching pair.\n",
        "\n",
        "    \"\"\"\n",
        "    permutation = np.random.permutation(2 * n)\n",
        "    matching = [(permutation[i], permutation[i + n]) for i in range(n)]\n",
        "    return matching\n",
        "\n",
        "\n",
        "# Original implementation of count_crossings_and_nestings\n",
        "def count_crossings_and_nestings(arcs):\n",
        "    crossings = 0\n",
        "    nestings = 0\n",
        "\n",
        "    for i in range(len(arcs)):\n",
        "        for j in range(i + 1, len(arcs)):\n",
        "            arc_i_start, arc_i_end = arcs[i]\n",
        "            arc_j_start, arc_j_end = arcs[j]\n",
        "\n",
        "            # Check for crossings\n",
        "            if arc_i_start < arc_j_start < arc_i_end < arc_j_end or \\\n",
        "                    arc_j_start < arc_i_start < arc_j_end < arc_i_end:\n",
        "                crossings += 1\n",
        "\n",
        "            # Check for nestings\n",
        "            if arc_i_start < arc_j_start < arc_j_end < arc_i_end or \\\n",
        "                    arc_j_start < arc_i_start < arc_i_end < arc_j_end:\n",
        "                nestings += 1\n",
        "\n",
        "    return crossings, nestings\n",
        "\n",
        "\n",
        "# One-line lambda function\n",
        "countcrossnest = lambda arcs: tuple(map(sum, zip(*(\n",
        "        [(False, False)] + [(i < k < j < l or k < i < l < j, i < k < l < j or k < i < j < l) for _, (i, j) in\n",
        "                            enumerate(arcs) for k, l in arcs[_ + 1:]]))))\n",
        "\n",
        "\n",
        "# Function to compute the average run time for a given function and input size\n",
        "def average_run_time(func, input_size, num_samples=100):\n",
        "    setup_code = f\"\"\"\n",
        "from __main__ import random_matching, {func}\n",
        "matching = random_matching({input_size})\n",
        "\"\"\"\n",
        "    time_taken = timeit.timeit(stmt=f\"{func}(matching)\",\n",
        "                               setup=setup_code,\n",
        "                               number=num_samples)\n",
        "    return time_taken / num_samples\n",
        "\n",
        "\n",
        "# List of arc diagram sizes to test\n",
        "arc_sizes = [10, 20, 30, 40, 50]\n",
        "\n",
        "# Compute average run times for each function and input size\n",
        "average_times_crossings_nestings = [average_run_time('count_crossings_and_nestings', size) for size in arc_sizes]\n",
        "average_times_countcrossnest = [average_run_time('countcrossnest', size) for size in arc_sizes]\n",
        "\n",
        "# Plot the results\n",
        "plt.plot(arc_sizes, average_times_crossings_nestings, label='count_crossings_and_nestings')\n",
        "plt.plot(arc_sizes, average_times_countcrossnest, label='countcrossnest')\n",
        "plt.title(\"Average Run Time vs Arc Diagram Size\")\n",
        "plt.xlabel(\"Arc Diagram Size\")\n",
        "plt.ylabel(\"Average Run Time (seconds)\")\n",
        "plt.legend()\n",
        "plt.grid(True)\n",
        "plt.show()"
      ],
      "metadata": {
        "colab": {
          "base_uri": "https://localhost:8080/",
          "height": 472
        },
        "id": "2X6ljMipW2Pn",
        "outputId": "02499093-b40c-4636-90c2-434d35bb2aab"
      },
      "execution_count": 2,
      "outputs": [
        {
          "output_type": "display_data",
          "data": {
            "text/plain": [
              "<Figure size 640x480 with 1 Axes>"
            ],
            "image/png": "[encoded data removed]"
          },
          "metadata": {}
        }
      ]
    },
    {
      "cell_type": "markdown",
      "source": [
        "# **Part 2 Count matching with respect to crossings and nestings**"
      ],
      "metadata": {
        "id": "kNsWRyU8bc7Q"
      }
    },
    {
      "cell_type": "markdown",
      "source": [
        "**1. The code in Part 1 counts the crossings and nestings for a given matching. We now want to use this to analyze the distribution of crossings and nestings for arc diagrams with 100 arcs.**\n",
        "\n",
        "**Using your function random matching from Exercise (1.4), generate 10^4 such arc diagrams and create histograms for the numbers of crossings and nestings, respectively. Display them in a single plot. Also generate a two dimensional histogram for the joint distribution of crossings and nestings.**\n",
        "\n",
        "**What do you observe?**"
      ],
      "metadata": {
        "id": "R27hhymDfAoR"
      }
    },
    {
      "cell_type": "code",
      "source": [
        "import numpy as np\n",
        "import matplotlib.pyplot as plt\n",
        "\n",
        "# Uncomment the line below if the count_crossings_and_nestings function is not defined properly\n",
        "count_crossings_and_nestings = lambda arcs: tuple(map(sum, zip(*(\n",
        "            [(False, False)] + [(i < k < j < l or k < i < l < j, i < k < l < j or k < i < j < l) for _, (i, j) in\n",
        "                                enumerate(arcs) for k, l in arcs[_ + 1:]]))))\n",
        "\n",
        "\n",
        "# Function to generate a random arc diagram with 100 arcs\n",
        "def random_matching(n):\n",
        "    permutation = np.random.permutation(2 * n)\n",
        "    matching = [(permutation[i], permutation[i + n]) for i in range(n)]\n",
        "    return matching\n",
        "\n",
        "\n",
        "# Generate 10^4 random arc diagrams with 100 arcs each\n",
        "num_samples = 10 ** 4\n",
        "arc_diagrams = [random_matching(50) for _ in range(num_samples)]\n",
        "\n",
        "# Count the number of crossings and nestings for each arc diagram\n",
        "crossings_counts = []\n",
        "nestings_counts = []\n",
        "for arc_diagram in arc_diagrams:\n",
        "    crossings, nestings = count_crossings_and_nestings(arc_diagram)\n",
        "    crossings_counts.append(crossings)\n",
        "    nestings_counts.append(nestings)\n",
        "\n",
        "# Create histograms for the numbers of crossings and nestings\n",
        "plt.figure(figsize=(10, 5))\n",
        "\n",
        "plt.subplot(1, 2, 1)\n",
        "plt.hist(crossings_counts, bins=range(101), color='skyblue', edgecolor='black')\n",
        "plt.title('Histogram of Crossings')\n",
        "plt.xlabel('Number of Crossings')\n",
        "plt.ylabel('Frequency')\n",
        "\n",
        "plt.subplot(1, 2, 2)\n",
        "plt.hist(nestings_counts, bins=range(101), color='salmon', edgecolor='black')\n",
        "plt.title('Histogram of Nestings')\n",
        "plt.xlabel('Number of Nestings')\n",
        "plt.ylabel('Frequency')\n",
        "\n",
        "plt.tight_layout()\n",
        "plt.show()\n",
        "\n",
        "# Generate a two-dimensional histogram for the joint distribution of crossings and nestings\n",
        "plt.figure(figsize=(8, 6))\n",
        "plt.hist2d(crossings_counts, nestings_counts, bins=[range(101), range(101)], cmap='Blues')\n",
        "plt.colorbar(label='Frequency')\n",
        "plt.title('Joint Distribution of Crossings and Nestings')\n",
        "plt.xlabel('Number of Crossings')\n",
        "plt.ylabel('Number of Nestings')\n",
        "plt.grid(True)\n",
        "plt.show()\n"
      ],
      "metadata": {
        "colab": {
          "base_uri": "https://localhost:8080/",
          "height": 1000
        },
        "id": "0U_ZuhMCbonQ",
        "outputId": "8595a838-634c-414c-b336-1fbd32f75868"
      },
      "execution_count": 3,
      "outputs": [
        {
          "output_type": "display_data",
          "data": {
            "text/plain": [
              "<Figure size 1000x500 with 2 Axes>"
            ],
            "image/png": "[encoded data removed]"
          },
          "metadata": {}
        },
        {
          "output_type": "display_data",
          "data": {
            "text/plain": [
              "<Figure size 800x600 with 2 Axes>"
            ],
            "image/png": "[encoded data removed]"
          },
          "metadata": {}
        }
      ]
    },
    {
      "cell_type": "markdown",
      "source": [
        "**2. Write a function get_all_matchings that takes as argument a non-negative integer n and returns a list of all (2n-1)!! matchings on n arcs.**"
      ],
      "metadata": {
        "id": "Kpj0yQorfkJo"
      }
    },
    {
      "cell_type": "code",
      "source": [
        "def get_all_matchings(n):\n",
        "    \"\"\"\n",
        "    Generate all (2n-1)!! matchings on n arcs.\n",
        "\n",
        "    Parameters:\n",
        "        n (int): Non-negative integer representing the number of arcs.\n",
        "\n",
        "    Returns:\n",
        "        list of list of tuples: A list containing all matchings on n arcs.\n",
        "    \"\"\"\n",
        "    if n == 0:\n",
        "        return [[]]  # Base case: empty matching\n",
        "\n",
        "    # Recursive step: generate matchings with (n-1) arcs\n",
        "    prev_matchings = get_all_matchings(n - 1)\n",
        "\n",
        "    # Insert new arc in all possible positions\n",
        "    all_matchings = []\n",
        "    for m in range(2 * n - 1):\n",
        "        for matching in prev_matchings:\n",
        "            new_matching = []\n",
        "            for arc in matching:\n",
        "                new_arc = (arc[0] + 1 if arc[0] >= m else arc[0], arc[1] + 1 if arc[1] >= m else arc[1])\n",
        "                new_matching.append(new_arc)\n",
        "            new_matching.append((m, m + 1))\n",
        "            all_matchings.append(new_matching)\n",
        "\n",
        "    return all_matchings\n",
        "\n",
        "\n",
        "# Test the function for n = 0 to 7\n",
        "for n in range(8):\n",
        "    matchings = get_all_matchings(n)\n",
        "    expected_length = 1\n",
        "    for i in range(1, 2 * n, 2):\n",
        "        expected_length *= i\n",
        "    print(f\"n = {n}, Number of matchings: {len(matchings)}, Expected length: {expected_length}\")\n"
      ],
      "metadata": {
        "id": "MACF0FXpk2Eo"
      },
      "execution_count": null,
      "outputs": []
    },
    {
      "cell_type": "markdown",
      "source": [
        "**3. For n=6, compute the number C(kl) of arc diagrams with k crossings and I nestings for all possible values of k and I. Store these counting numbers C(kl) in a numpy array of integer data type and appropriate shape, meaning that the number of rows and columns should be aligned with the maximum numbers of crossings and nestings, respectively.**\n",
        "\n",
        "**You should get a symmetric array. Print this array. Furthermore, also print an array showing the total numbers of crossings for every k and, analogously, an array showing the total number of nestings for every l.**"
      ],
      "metadata": {
        "id": "b7naMIhQmQ-f"
      }
    },
    {
      "cell_type": "code",
      "source": [
        "import numpy as np\n",
        "\n",
        "\n",
        "def get_all_matchings(n):\n",
        "    \"\"\"\n",
        "    Generate all (2n-1)!! matchings on n arcs.\n",
        "\n",
        "    Parameters:\n",
        "        n (int): Non-negative integer representing the number of arcs.\n",
        "\n",
        "    Returns:\n",
        "        list of list of tuples: A list containing all matchings on n arcs.\n",
        "    \"\"\"\n",
        "    if n == 0:\n",
        "        return [[]]  # Base case: empty matching\n",
        "\n",
        "    # Recursive step: generate matchings with (n-1) arcs\n",
        "    prev_matchings = get_all_matchings(n - 1)\n",
        "\n",
        "    # Insert new arc in all possible positions\n",
        "    all_matchings = []\n",
        "    for m in range(2 * n - 1):\n",
        "        for matching in prev_matchings:\n",
        "            new_matching = []\n",
        "            for arc in matching:\n",
        "                new_arc = (arc[0] + 1 if arc[0] >= m else arc[0], arc[1] + 1 if arc[1] >= m else arc[1])\n",
        "                new_matching.append(new_arc)\n",
        "            new_matching.append((m, m + 1))\n",
        "            all_matchings.append(new_matching)\n",
        "\n",
        "    return all_matchings\n",
        "\n",
        "\n",
        "# Function to count crossings and nestings in a matching\n",
        "def count_crossings_and_nestings(arcs):\n",
        "    crossings = 0\n",
        "    nestings = 0\n",
        "\n",
        "    for i in range(len(arcs)):\n",
        "        for j in range(i + 1, len(arcs)):\n",
        "            arc_i_start, arc_i_end = arcs[i]\n",
        "            arc_j_start, arc_j_end = arcs[j]\n",
        "\n",
        "            # Check for crossings\n",
        "            if arc_i_start < arc_j_start < arc_i_end < arc_j_end or \\\n",
        "                    arc_j_start < arc_i_start < arc_j_end < arc_i_end:\n",
        "                crossings += 1\n",
        "\n",
        "            # Check for nestings\n",
        "            if arc_i_start < arc_j_start < arc_j_end < arc_i_end or \\\n",
        "                    arc_j_start < arc_i_start < arc_i_end < arc_j_end:\n",
        "                nestings += 1\n",
        "\n",
        "    return crossings, nestings\n",
        "\n",
        "\n",
        "# Generate all matchings for n = 6\n",
        "matchings = get_all_matchings(6)\n",
        "\n",
        "# Initialize arrays to store counts\n",
        "max_crossings = 6 * 5 // 2  # Maximum number of crossings for n = 6\n",
        "max_nestings = 6 * 5 // 2  # Maximum number of nestings for n = 6\n",
        "count_array = np.zeros((max_crossings + 1, max_nestings + 1), dtype=int)\n",
        "\n",
        "# Iterate over all matchings and count crossings and nestings\n",
        "for matching in matchings:\n",
        "    crossings, nestings = count_crossings_and_nestings(matching)\n",
        "    count_array[crossings, nestings] += 1\n",
        "\n",
        "# Print the count array\n",
        "print(\"Count array (Ckl):\")\n",
        "print(count_array)\n",
        "\n",
        "# Calculate total crossings for each k\n",
        "total_crossings = np.sum(count_array, axis=1)\n",
        "\n",
        "# Print total crossings array\n",
        "print(\"\\nTotal crossings for each k:\")\n",
        "print(total_crossings)\n",
        "\n",
        "# Calculate total nestings for each l\n",
        "total_nestings = np.sum(count_array, axis=0)\n",
        "\n",
        "# Print total nestings array\n",
        "print(\"\\nTotal nestings for each l:\")\n",
        "print(total_nestings)\n"
      ],
      "metadata": {
        "colab": {
          "base_uri": "https://localhost:8080/"
        },
        "id": "BBFx3hGCmTGC",
        "outputId": "4cc21d97-01c1-4a54-da2c-1ad2a1292589"
      },
      "execution_count": 5,
      "outputs": [
        {
          "output_type": "stream",
          "name": "stdout",
          "text": [
            "Count array (Ckl):\n",
            "[[6967 2134  930  228  108   17   10    1    0    0    0    0    0    0\n",
            "     0    0]\n",
            " [   0    0    0    0    0    0    0    0    0    0    0    0    0    0\n",
            "     0    0]\n",
            " [   0    0    0    0    0    0    0    0    0    0    0    0    0    0\n",
            "     0    0]\n",
            " [   0    0    0    0    0    0    0    0    0    0    0    0    0    0\n",
            "     0    0]\n",
            " [   0    0    0    0    0    0    0    0    0    0    0    0    0    0\n",
            "     0    0]\n",
            " [   0    0    0    0    0    0    0    0    0    0    0    0    0    0\n",
            "     0    0]\n",
            " [   0    0    0    0    0    0    0    0    0    0    0    0    0    0\n",
            "     0    0]\n",
            " [   0    0    0    0    0    0    0    0    0    0    0    0    0    0\n",
            "     0    0]\n",
            " [   0    0    0    0    0    0    0    0    0    0    0    0    0    0\n",
            "     0    0]\n",
            " [   0    0    0    0    0    0    0    0    0    0    0    0    0    0\n",
            "     0    0]\n",
            " [   0    0    0    0    0    0    0    0    0    0    0    0    0    0\n",
            "     0    0]\n",
            " [   0    0    0    0    0    0    0    0    0    0    0    0    0    0\n",
            "     0    0]\n",
            " [   0    0    0    0    0    0    0    0    0    0    0    0    0    0\n",
            "     0    0]\n",
            " [   0    0    0    0    0    0    0    0    0    0    0    0    0    0\n",
            "     0    0]\n",
            " [   0    0    0    0    0    0    0    0    0    0    0    0    0    0\n",
            "     0    0]\n",
            " [   0    0    0    0    0    0    0    0    0    0    0    0    0    0\n",
            "     0    0]]\n",
            "\n",
            "Total crossings for each k:\n",
            "[10395     0     0     0     0     0     0     0     0     0     0     0\n",
            "     0     0     0     0]\n",
            "\n",
            "Total nestings for each l:\n",
            "[6967 2134  930  228  108   17   10    1    0    0    0    0    0    0\n",
            "    0    0]\n"
          ]
        }
      ]
    },
    {
      "cell_type": "markdown",
      "source": [
        "# **Part 3 Rewiring of matchings**"
      ],
      "metadata": {
        "id": "o-k_eUrork1n"
      }
    },
    {
      "cell_type": "markdown",
      "source": [
        "**1. Write a function find_equivalent_matchings that takes a matching and returns all matchings with the same pattern (including the original one).**"
      ],
      "metadata": {
        "id": "a4aVp3pLru9U"
      }
    },
    {
      "cell_type": "code",
      "source": [
        "from itertools import permutations\n",
        "\n",
        "\n",
        "def find_equivalent_matchings(matching):\n",
        "    \"\"\"\n",
        "    Find all matchings with the same pattern of start and end points as the given matching.\n",
        "\n",
        "    Parameters:\n",
        "        matching (list): The original matching.\n",
        "\n",
        "    Returns:\n",
        "        list: A list containing all matchings with the same pattern.\n",
        "    \"\"\"\n",
        "    start_points = sorted(set([arc[0] for arc in matching]))\n",
        "    end_points = sorted(set([arc[1] for arc in matching]))\n",
        "\n",
        "    equivalent_matchings = []\n",
        "    for perm_start in permutations(start_points):\n",
        "        for perm_end in permutations(end_points):\n",
        "            equivalent_matching = [(perm_start[i], perm_end[i]) for i in range(len(start_points))]\n",
        "            equivalent_matchings.append(equivalent_matching)\n",
        "\n",
        "    return equivalent_matchings\n",
        "\n",
        "\n",
        "# Example usage:\n",
        "original_matching = [(0, 7), (1, 4), (2, 3), (5, 6)]\n",
        "equivalent_matchings = find_equivalent_matchings(original_matching)\n",
        "for matching in equivalent_matchings:\n",
        "    print(matching)\n",
        "print(\"The number of equivalent matchings is : \", len(equivalent_matchings))"
      ],
      "metadata": {
        "colab": {
          "base_uri": "https://localhost:8080/"
        },
        "id": "eZy_UzjirjPV",
        "outputId": "2b002810-7ee0-4179-9a37-3a1627a4a9b4"
      },
      "execution_count": 6,
      "outputs": [
        {
          "output_type": "stream",
          "name": "stdout",
          "text": [
            "[(0, 3), (1, 4), (2, 6), (5, 7)]\n",
            "[(0, 3), (1, 4), (2, 7), (5, 6)]\n",
            "[(0, 3), (1, 6), (2, 4), (5, 7)]\n",
            "[(0, 3), (1, 6), (2, 7), (5, 4)]\n",
            "[(0, 3), (1, 7), (2, 4), (5, 6)]\n",
            "[(0, 3), (1, 7), (2, 6), (5, 4)]\n",
            "[(0, 4), (1, 3), (2, 6), (5, 7)]\n",
            "[(0, 4), (1, 3), (2, 7), (5, 6)]\n",
            "[(0, 4), (1, 6), (2, 3), (5, 7)]\n",
            "[(0, 4), (1, 6), (2, 7), (5, 3)]\n",
            "[(0, 4), (1, 7), (2, 3), (5, 6)]\n",
            "[(0, 4), (1, 7), (2, 6), (5, 3)]\n",
            "[(0, 6), (1, 3), (2, 4), (5, 7)]\n",
            "[(0, 6), (1, 3), (2, 7), (5, 4)]\n",
            "[(0, 6), (1, 4), (2, 3), (5, 7)]\n",
            "[(0, 6), (1, 4), (2, 7), (5, 3)]\n",
            "[(0, 6), (1, 7), (2, 3), (5, 4)]\n",
            "[(0, 6), (1, 7), (2, 4), (5, 3)]\n",
            "[(0, 7), (1, 3), (2, 4), (5, 6)]\n",
            "[(0, 7), (1, 3), (2, 6), (5, 4)]\n",
            "[(0, 7), (1, 4), (2, 3), (5, 6)]\n",
            "[(0, 7), (1, 4), (2, 6), (5, 3)]\n",
            "[(0, 7), (1, 6), (2, 3), (5, 4)]\n",
            "[(0, 7), (1, 6), (2, 4), (5, 3)]\n",
            "[(0, 3), (1, 4), (5, 6), (2, 7)]\n",
            "[(0, 3), (1, 4), (5, 7), (2, 6)]\n",
            "[(0, 3), (1, 6), (5, 4), (2, 7)]\n",
            "[(0, 3), (1, 6), (5, 7), (2, 4)]\n",
            "[(0, 3), (1, 7), (5, 4), (2, 6)]\n",
            "[(0, 3), (1, 7), (5, 6), (2, 4)]\n",
            "[(0, 4), (1, 3), (5, 6), (2, 7)]\n",
            "[(0, 4), (1, 3), (5, 7), (2, 6)]\n",
            "[(0, 4), (1, 6), (5, 3), (2, 7)]\n",
            "[(0, 4), (1, 6), (5, 7), (2, 3)]\n",
            "[(0, 4), (1, 7), (5, 3), (2, 6)]\n",
            "[(0, 4), (1, 7), (5, 6), (2, 3)]\n",
            "[(0, 6), (1, 3), (5, 4), (2, 7)]\n",
            "[(0, 6), (1, 3), (5, 7), (2, 4)]\n",
            "[(0, 6), (1, 4), (5, 3), (2, 7)]\n",
            "[(0, 6), (1, 4), (5, 7), (2, 3)]\n",
            "[(0, 6), (1, 7), (5, 3), (2, 4)]\n",
            "[(0, 6), (1, 7), (5, 4), (2, 3)]\n",
            "[(0, 7), (1, 3), (5, 4), (2, 6)]\n",
            "[(0, 7), (1, 3), (5, 6), (2, 4)]\n",
            "[(0, 7), (1, 4), (5, 3), (2, 6)]\n",
            "[(0, 7), (1, 4), (5, 6), (2, 3)]\n",
            "[(0, 7), (1, 6), (5, 3), (2, 4)]\n",
            "[(0, 7), (1, 6), (5, 4), (2, 3)]\n",
            "[(0, 3), (2, 4), (1, 6), (5, 7)]\n",
            "[(0, 3), (2, 4), (1, 7), (5, 6)]\n",
            "[(0, 3), (2, 6), (1, 4), (5, 7)]\n",
            "[(0, 3), (2, 6), (1, 7), (5, 4)]\n",
            "[(0, 3), (2, 7), (1, 4), (5, 6)]\n",
            "[(0, 3), (2, 7), (1, 6), (5, 4)]\n",
            "[(0, 4), (2, 3), (1, 6), (5, 7)]\n",
            "[(0, 4), (2, 3), (1, 7), (5, 6)]\n",
            "[(0, 4), (2, 6), (1, 3), (5, 7)]\n",
            "[(0, 4), (2, 6), (1, 7), (5, 3)]\n",
            "[(0, 4), (2, 7), (1, 3), (5, 6)]\n",
            "[(0, 4), (2, 7), (1, 6), (5, 3)]\n",
            "[(0, 6), (2, 3), (1, 4), (5, 7)]\n",
            "[(0, 6), (2, 3), (1, 7), (5, 4)]\n",
            "[(0, 6), (2, 4), (1, 3), (5, 7)]\n",
            "[(0, 6), (2, 4), (1, 7), (5, 3)]\n",
            "[(0, 6), (2, 7), (1, 3), (5, 4)]\n",
            "[(0, 6), (2, 7), (1, 4), (5, 3)]\n",
            "[(0, 7), (2, 3), (1, 4), (5, 6)]\n",
            "[(0, 7), (2, 3), (1, 6), (5, 4)]\n",
            "[(0, 7), (2, 4), (1, 3), (5, 6)]\n",
            "[(0, 7), (2, 4), (1, 6), (5, 3)]\n",
            "[(0, 7), (2, 6), (1, 3), (5, 4)]\n",
            "[(0, 7), (2, 6), (1, 4), (5, 3)]\n",
            "[(0, 3), (2, 4), (5, 6), (1, 7)]\n",
            "[(0, 3), (2, 4), (5, 7), (1, 6)]\n",
            "[(0, 3), (2, 6), (5, 4), (1, 7)]\n",
            "[(0, 3), (2, 6), (5, 7), (1, 4)]\n",
            "[(0, 3), (2, 7), (5, 4), (1, 6)]\n",
            "[(0, 3), (2, 7), (5, 6), (1, 4)]\n",
            "[(0, 4), (2, 3), (5, 6), (1, 7)]\n",
            "[(0, 4), (2, 3), (5, 7), (1, 6)]\n",
            "[(0, 4), (2, 6), (5, 3), (1, 7)]\n",
            "[(0, 4), (2, 6), (5, 7), (1, 3)]\n",
            "[(0, 4), (2, 7), (5, 3), (1, 6)]\n",
            "[(0, 4), (2, 7), (5, 6), (1, 3)]\n",
            "[(0, 6), (2, 3), (5, 4), (1, 7)]\n",
            "[(0, 6), (2, 3), (5, 7), (1, 4)]\n",
            "[(0, 6), (2, 4), (5, 3), (1, 7)]\n",
            "[(0, 6), (2, 4), (5, 7), (1, 3)]\n",
            "[(0, 6), (2, 7), (5, 3), (1, 4)]\n",
            "[(0, 6), (2, 7), (5, 4), (1, 3)]\n",
            "[(0, 7), (2, 3), (5, 4), (1, 6)]\n",
            "[(0, 7), (2, 3), (5, 6), (1, 4)]\n",
            "[(0, 7), (2, 4), (5, 3), (1, 6)]\n",
            "[(0, 7), (2, 4), (5, 6), (1, 3)]\n",
            "[(0, 7), (2, 6), (5, 3), (1, 4)]\n",
            "[(0, 7), (2, 6), (5, 4), (1, 3)]\n",
            "[(0, 3), (5, 4), (1, 6), (2, 7)]\n",
            "[(0, 3), (5, 4), (1, 7), (2, 6)]\n",
            "[(0, 3), (5, 6), (1, 4), (2, 7)]\n",
            "[(0, 3), (5, 6), (1, 7), (2, 4)]\n",
            "[(0, 3), (5, 7), (1, 4), (2, 6)]\n",
            "[(0, 3), (5, 7), (1, 6), (2, 4)]\n",
            "[(0, 4), (5, 3), (1, 6), (2, 7)]\n",
            "[(0, 4), (5, 3), (1, 7), (2, 6)]\n",
            "[(0, 4), (5, 6), (1, 3), (2, 7)]\n",
            "[(0, 4), (5, 6), (1, 7), (2, 3)]\n",
            "[(0, 4), (5, 7), (1, 3), (2, 6)]\n",
            "[(0, 4), (5, 7), (1, 6), (2, 3)]\n",
            "[(0, 6), (5, 3), (1, 4), (2, 7)]\n",
            "[(0, 6), (5, 3), (1, 7), (2, 4)]\n",
            "[(0, 6), (5, 4), (1, 3), (2, 7)]\n",
            "[(0, 6), (5, 4), (1, 7), (2, 3)]\n",
            "[(0, 6), (5, 7), (1, 3), (2, 4)]\n",
            "[(0, 6), (5, 7), (1, 4), (2, 3)]\n",
            "[(0, 7), (5, 3), (1, 4), (2, 6)]\n",
            "[(0, 7), (5, 3), (1, 6), (2, 4)]\n",
            "[(0, 7), (5, 4), (1, 3), (2, 6)]\n",
            "[(0, 7), (5, 4), (1, 6), (2, 3)]\n",
            "[(0, 7), (5, 6), (1, 3), (2, 4)]\n",
            "[(0, 7), (5, 6), (1, 4), (2, 3)]\n",
            "[(0, 3), (5, 4), (2, 6), (1, 7)]\n",
            "[(0, 3), (5, 4), (2, 7), (1, 6)]\n",
            "[(0, 3), (5, 6), (2, 4), (1, 7)]\n",
            "[(0, 3), (5, 6), (2, 7), (1, 4)]\n",
            "[(0, 3), (5, 7), (2, 4), (1, 6)]\n",
            "[(0, 3), (5, 7), (2, 6), (1, 4)]\n",
            "[(0, 4), (5, 3), (2, 6), (1, 7)]\n",
            "[(0, 4), (5, 3), (2, 7), (1, 6)]\n",
            "[(0, 4), (5, 6), (2, 3), (1, 7)]\n",
            "[(0, 4), (5, 6), (2, 7), (1, 3)]\n",
            "[(0, 4), (5, 7), (2, 3), (1, 6)]\n",
            "[(0, 4), (5, 7), (2, 6), (1, 3)]\n",
            "[(0, 6), (5, 3), (2, 4), (1, 7)]\n",
            "[(0, 6), (5, 3), (2, 7), (1, 4)]\n",
            "[(0, 6), (5, 4), (2, 3), (1, 7)]\n",
            "[(0, 6), (5, 4), (2, 7), (1, 3)]\n",
            "[(0, 6), (5, 7), (2, 3), (1, 4)]\n",
            "[(0, 6), (5, 7), (2, 4), (1, 3)]\n",
            "[(0, 7), (5, 3), (2, 4), (1, 6)]\n",
            "[(0, 7), (5, 3), (2, 6), (1, 4)]\n",
            "[(0, 7), (5, 4), (2, 3), (1, 6)]\n",
            "[(0, 7), (5, 4), (2, 6), (1, 3)]\n",
            "[(0, 7), (5, 6), (2, 3), (1, 4)]\n",
            "[(0, 7), (5, 6), (2, 4), (1, 3)]\n",
            "[(1, 3), (0, 4), (2, 6), (5, 7)]\n",
            "[(1, 3), (0, 4), (2, 7), (5, 6)]\n",
            "[(1, 3), (0, 6), (2, 4), (5, 7)]\n",
            "[(1, 3), (0, 6), (2, 7), (5, 4)]\n",
            "[(1, 3), (0, 7), (2, 4), (5, 6)]\n",
            "[(1, 3), (0, 7), (2, 6), (5, 4)]\n",
            "[(1, 4), (0, 3), (2, 6), (5, 7)]\n",
            "[(1, 4), (0, 3), (2, 7), (5, 6)]\n",
            "[(1, 4), (0, 6), (2, 3), (5, 7)]\n",
            "[(1, 4), (0, 6), (2, 7), (5, 3)]\n",
            "[(1, 4), (0, 7), (2, 3), (5, 6)]\n",
            "[(1, 4), (0, 7), (2, 6), (5, 3)]\n",
            "[(1, 6), (0, 3), (2, 4), (5, 7)]\n",
            "[(1, 6), (0, 3), (2, 7), (5, 4)]\n",
            "[(1, 6), (0, 4), (2, 3), (5, 7)]\n",
            "[(1, 6), (0, 4), (2, 7), (5, 3)]\n",
            "[(1, 6), (0, 7), (2, 3), (5, 4)]\n",
            "[(1, 6), (0, 7), (2, 4), (5, 3)]\n",
            "[(1, 7), (0, 3), (2, 4), (5, 6)]\n",
            "[(1, 7), (0, 3), (2, 6), (5, 4)]\n",
            "[(1, 7), (0, 4), (2, 3), (5, 6)]\n",
            "[(1, 7), (0, 4), (2, 6), (5, 3)]\n",
            "[(1, 7), (0, 6), (2, 3), (5, 4)]\n",
            "[(1, 7), (0, 6), (2, 4), (5, 3)]\n",
            "[(1, 3), (0, 4), (5, 6), (2, 7)]\n",
            "[(1, 3), (0, 4), (5, 7), (2, 6)]\n",
            "[(1, 3), (0, 6), (5, 4), (2, 7)]\n",
            "[(1, 3), (0, 6), (5, 7), (2, 4)]\n",
            "[(1, 3), (0, 7), (5, 4), (2, 6)]\n",
            "[(1, 3), (0, 7), (5, 6), (2, 4)]\n",
            "[(1, 4), (0, 3), (5, 6), (2, 7)]\n",
            "[(1, 4), (0, 3), (5, 7), (2, 6)]\n",
            "[(1, 4), (0, 6), (5, 3), (2, 7)]\n",
            "[(1, 4), (0, 6), (5, 7), (2, 3)]\n",
            "[(1, 4), (0, 7), (5, 3), (2, 6)]\n",
            "[(1, 4), (0, 7), (5, 6), (2, 3)]\n",
            "[(1, 6), (0, 3), (5, 4), (2, 7)]\n",
            "[(1, 6), (0, 3), (5, 7), (2, 4)]\n",
            "[(1, 6), (0, 4), (5, 3), (2, 7)]\n",
            "[(1, 6), (0, 4), (5, 7), (2, 3)]\n",
            "[(1, 6), (0, 7), (5, 3), (2, 4)]\n",
            "[(1, 6), (0, 7), (5, 4), (2, 3)]\n",
            "[(1, 7), (0, 3), (5, 4), (2, 6)]\n",
            "[(1, 7), (0, 3), (5, 6), (2, 4)]\n",
            "[(1, 7), (0, 4), (5, 3), (2, 6)]\n",
            "[(1, 7), (0, 4), (5, 6), (2, 3)]\n",
            "[(1, 7), (0, 6), (5, 3), (2, 4)]\n",
            "[(1, 7), (0, 6), (5, 4), (2, 3)]\n",
            "[(1, 3), (2, 4), (0, 6), (5, 7)]\n",
            "[(1, 3), (2, 4), (0, 7), (5, 6)]\n",
            "[(1, 3), (2, 6), (0, 4), (5, 7)]\n",
            "[(1, 3), (2, 6), (0, 7), (5, 4)]\n",
            "[(1, 3), (2, 7), (0, 4), (5, 6)]\n",
            "[(1, 3), (2, 7), (0, 6), (5, 4)]\n",
            "[(1, 4), (2, 3), (0, 6), (5, 7)]\n",
            "[(1, 4), (2, 3), (0, 7), (5, 6)]\n",
            "[(1, 4), (2, 6), (0, 3), (5, 7)]\n",
            "[(1, 4), (2, 6), (0, 7), (5, 3)]\n",
            "[(1, 4), (2, 7), (0, 3), (5, 6)]\n",
            "[(1, 4), (2, 7), (0, 6), (5, 3)]\n",
            "[(1, 6), (2, 3), (0, 4), (5, 7)]\n",
            "[(1, 6), (2, 3), (0, 7), (5, 4)]\n",
            "[(1, 6), (2, 4), (0, 3), (5, 7)]\n",
            "[(1, 6), (2, 4), (0, 7), (5, 3)]\n",
            "[(1, 6), (2, 7), (0, 3), (5, 4)]\n",
            "[(1, 6), (2, 7), (0, 4), (5, 3)]\n",
            "[(1, 7), (2, 3), (0, 4), (5, 6)]\n",
            "[(1, 7), (2, 3), (0, 6), (5, 4)]\n",
            "[(1, 7), (2, 4), (0, 3), (5, 6)]\n",
            "[(1, 7), (2, 4), (0, 6), (5, 3)]\n",
            "[(1, 7), (2, 6), (0, 3), (5, 4)]\n",
            "[(1, 7), (2, 6), (0, 4), (5, 3)]\n",
            "[(1, 3), (2, 4), (5, 6), (0, 7)]\n",
            "[(1, 3), (2, 4), (5, 7), (0, 6)]\n",
            "[(1, 3), (2, 6), (5, 4), (0, 7)]\n",
            "[(1, 3), (2, 6), (5, 7), (0, 4)]\n",
            "[(1, 3), (2, 7), (5, 4), (0, 6)]\n",
            "[(1, 3), (2, 7), (5, 6), (0, 4)]\n",
            "[(1, 4), (2, 3), (5, 6), (0, 7)]\n",
            "[(1, 4), (2, 3), (5, 7), (0, 6)]\n",
            "[(1, 4), (2, 6), (5, 3), (0, 7)]\n",
            "[(1, 4), (2, 6), (5, 7), (0, 3)]\n",
            "[(1, 4), (2, 7), (5, 3), (0, 6)]\n",
            "[(1, 4), (2, 7), (5, 6), (0, 3)]\n",
            "[(1, 6), (2, 3), (5, 4), (0, 7)]\n",
            "[(1, 6), (2, 3), (5, 7), (0, 4)]\n",
            "[(1, 6), (2, 4), (5, 3), (0, 7)]\n",
            "[(1, 6), (2, 4), (5, 7), (0, 3)]\n",
            "[(1, 6), (2, 7), (5, 3), (0, 4)]\n",
            "[(1, 6), (2, 7), (5, 4), (0, 3)]\n",
            "[(1, 7), (2, 3), (5, 4), (0, 6)]\n",
            "[(1, 7), (2, 3), (5, 6), (0, 4)]\n",
            "[(1, 7), (2, 4), (5, 3), (0, 6)]\n",
            "[(1, 7), (2, 4), (5, 6), (0, 3)]\n",
            "[(1, 7), (2, 6), (5, 3), (0, 4)]\n",
            "[(1, 7), (2, 6), (5, 4), (0, 3)]\n",
            "[(1, 3), (5, 4), (0, 6), (2, 7)]\n",
            "[(1, 3), (5, 4), (0, 7), (2, 6)]\n",
            "[(1, 3), (5, 6), (0, 4), (2, 7)]\n",
            "[(1, 3), (5, 6), (0, 7), (2, 4)]\n",
            "[(1, 3), (5, 7), (0, 4), (2, 6)]\n",
            "[(1, 3), (5, 7), (0, 6), (2, 4)]\n",
            "[(1, 4), (5, 3), (0, 6), (2, 7)]\n",
            "[(1, 4), (5, 3), (0, 7), (2, 6)]\n",
            "[(1, 4), (5, 6), (0, 3), (2, 7)]\n",
            "[(1, 4), (5, 6), (0, 7), (2, 3)]\n",
            "[(1, 4), (5, 7), (0, 3), (2, 6)]\n",
            "[(1, 4), (5, 7), (0, 6), (2, 3)]\n",
            "[(1, 6), (5, 3), (0, 4), (2, 7)]\n",
            "[(1, 6), (5, 3), (0, 7), (2, 4)]\n",
            "[(1, 6), (5, 4), (0, 3), (2, 7)]\n",
            "[(1, 6), (5, 4), (0, 7), (2, 3)]\n",
            "[(1, 6), (5, 7), (0, 3), (2, 4)]\n",
            "[(1, 6), (5, 7), (0, 4), (2, 3)]\n",
            "[(1, 7), (5, 3), (0, 4), (2, 6)]\n",
            "[(1, 7), (5, 3), (0, 6), (2, 4)]\n",
            "[(1, 7), (5, 4), (0, 3), (2, 6)]\n",
            "[(1, 7), (5, 4), (0, 6), (2, 3)]\n",
            "[(1, 7), (5, 6), (0, 3), (2, 4)]\n",
            "[(1, 7), (5, 6), (0, 4), (2, 3)]\n",
            "[(1, 3), (5, 4), (2, 6), (0, 7)]\n",
            "[(1, 3), (5, 4), (2, 7), (0, 6)]\n",
            "[(1, 3), (5, 6), (2, 4), (0, 7)]\n",
            "[(1, 3), (5, 6), (2, 7), (0, 4)]\n",
            "[(1, 3), (5, 7), (2, 4), (0, 6)]\n",
            "[(1, 3), (5, 7), (2, 6), (0, 4)]\n",
            "[(1, 4), (5, 3), (2, 6), (0, 7)]\n",
            "[(1, 4), (5, 3), (2, 7), (0, 6)]\n",
            "[(1, 4), (5, 6), (2, 3), (0, 7)]\n",
            "[(1, 4), (5, 6), (2, 7), (0, 3)]\n",
            "[(1, 4), (5, 7), (2, 3), (0, 6)]\n",
            "[(1, 4), (5, 7), (2, 6), (0, 3)]\n",
            "[(1, 6), (5, 3), (2, 4), (0, 7)]\n",
            "[(1, 6), (5, 3), (2, 7), (0, 4)]\n",
            "[(1, 6), (5, 4), (2, 3), (0, 7)]\n",
            "[(1, 6), (5, 4), (2, 7), (0, 3)]\n",
            "[(1, 6), (5, 7), (2, 3), (0, 4)]\n",
            "[(1, 6), (5, 7), (2, 4), (0, 3)]\n",
            "[(1, 7), (5, 3), (2, 4), (0, 6)]\n",
            "[(1, 7), (5, 3), (2, 6), (0, 4)]\n",
            "[(1, 7), (5, 4), (2, 3), (0, 6)]\n",
            "[(1, 7), (5, 4), (2, 6), (0, 3)]\n",
            "[(1, 7), (5, 6), (2, 3), (0, 4)]\n",
            "[(1, 7), (5, 6), (2, 4), (0, 3)]\n",
            "[(2, 3), (0, 4), (1, 6), (5, 7)]\n",
            "[(2, 3), (0, 4), (1, 7), (5, 6)]\n",
            "[(2, 3), (0, 6), (1, 4), (5, 7)]\n",
            "[(2, 3), (0, 6), (1, 7), (5, 4)]\n",
            "[(2, 3), (0, 7), (1, 4), (5, 6)]\n",
            "[(2, 3), (0, 7), (1, 6), (5, 4)]\n",
            "[(2, 4), (0, 3), (1, 6), (5, 7)]\n",
            "[(2, 4), (0, 3), (1, 7), (5, 6)]\n",
            "[(2, 4), (0, 6), (1, 3), (5, 7)]\n",
            "[(2, 4), (0, 6), (1, 7), (5, 3)]\n",
            "[(2, 4), (0, 7), (1, 3), (5, 6)]\n",
            "[(2, 4), (0, 7), (1, 6), (5, 3)]\n",
            "[(2, 6), (0, 3), (1, 4), (5, 7)]\n",
            "[(2, 6), (0, 3), (1, 7), (5, 4)]\n",
            "[(2, 6), (0, 4), (1, 3), (5, 7)]\n",
            "[(2, 6), (0, 4), (1, 7), (5, 3)]\n",
            "[(2, 6), (0, 7), (1, 3), (5, 4)]\n",
            "[(2, 6), (0, 7), (1, 4), (5, 3)]\n",
            "[(2, 7), (0, 3), (1, 4), (5, 6)]\n",
            "[(2, 7), (0, 3), (1, 6), (5, 4)]\n",
            "[(2, 7), (0, 4), (1, 3), (5, 6)]\n",
            "[(2, 7), (0, 4), (1, 6), (5, 3)]\n",
            "[(2, 7), (0, 6), (1, 3), (5, 4)]\n",
            "[(2, 7), (0, 6), (1, 4), (5, 3)]\n",
            "[(2, 3), (0, 4), (5, 6), (1, 7)]\n",
            "[(2, 3), (0, 4), (5, 7), (1, 6)]\n",
            "[(2, 3), (0, 6), (5, 4), (1, 7)]\n",
            "[(2, 3), (0, 6), (5, 7), (1, 4)]\n",
            "[(2, 3), (0, 7), (5, 4), (1, 6)]\n",
            "[(2, 3), (0, 7), (5, 6), (1, 4)]\n",
            "[(2, 4), (0, 3), (5, 6), (1, 7)]\n",
            "[(2, 4), (0, 3), (5, 7), (1, 6)]\n",
            "[(2, 4), (0, 6), (5, 3), (1, 7)]\n",
            "[(2, 4), (0, 6), (5, 7), (1, 3)]\n",
            "[(2, 4), (0, 7), (5, 3), (1, 6)]\n",
            "[(2, 4), (0, 7), (5, 6), (1, 3)]\n",
            "[(2, 6), (0, 3), (5, 4), (1, 7)]\n",
            "[(2, 6), (0, 3), (5, 7), (1, 4)]\n",
            "[(2, 6), (0, 4), (5, 3), (1, 7)]\n",
            "[(2, 6), (0, 4), (5, 7), (1, 3)]\n",
            "[(2, 6), (0, 7), (5, 3), (1, 4)]\n",
            "[(2, 6), (0, 7), (5, 4), (1, 3)]\n",
            "[(2, 7), (0, 3), (5, 4), (1, 6)]\n",
            "[(2, 7), (0, 3), (5, 6), (1, 4)]\n",
            "[(2, 7), (0, 4), (5, 3), (1, 6)]\n",
            "[(2, 7), (0, 4), (5, 6), (1, 3)]\n",
            "[(2, 7), (0, 6), (5, 3), (1, 4)]\n",
            "[(2, 7), (0, 6), (5, 4), (1, 3)]\n",
            "[(2, 3), (1, 4), (0, 6), (5, 7)]\n",
            "[(2, 3), (1, 4), (0, 7), (5, 6)]\n",
            "[(2, 3), (1, 6), (0, 4), (5, 7)]\n",
            "[(2, 3), (1, 6), (0, 7), (5, 4)]\n",
            "[(2, 3), (1, 7), (0, 4), (5, 6)]\n",
            "[(2, 3), (1, 7), (0, 6), (5, 4)]\n",
            "[(2, 4), (1, 3), (0, 6), (5, 7)]\n",
            "[(2, 4), (1, 3), (0, 7), (5, 6)]\n",
            "[(2, 4), (1, 6), (0, 3), (5, 7)]\n",
            "[(2, 4), (1, 6), (0, 7), (5, 3)]\n",
            "[(2, 4), (1, 7), (0, 3), (5, 6)]\n",
            "[(2, 4), (1, 7), (0, 6), (5, 3)]\n",
            "[(2, 6), (1, 3), (0, 4), (5, 7)]\n",
            "[(2, 6), (1, 3), (0, 7), (5, 4)]\n",
            "[(2, 6), (1, 4), (0, 3), (5, 7)]\n",
            "[(2, 6), (1, 4), (0, 7), (5, 3)]\n",
            "[(2, 6), (1, 7), (0, 3), (5, 4)]\n",
            "[(2, 6), (1, 7), (0, 4), (5, 3)]\n",
            "[(2, 7), (1, 3), (0, 4), (5, 6)]\n",
            "[(2, 7), (1, 3), (0, 6), (5, 4)]\n",
            "[(2, 7), (1, 4), (0, 3), (5, 6)]\n",
            "[(2, 7), (1, 4), (0, 6), (5, 3)]\n",
            "[(2, 7), (1, 6), (0, 3), (5, 4)]\n",
            "[(2, 7), (1, 6), (0, 4), (5, 3)]\n",
            "[(2, 3), (1, 4), (5, 6), (0, 7)]\n",
            "[(2, 3), (1, 4), (5, 7), (0, 6)]\n",
            "[(2, 3), (1, 6), (5, 4), (0, 7)]\n",
            "[(2, 3), (1, 6), (5, 7), (0, 4)]\n",
            "[(2, 3), (1, 7), (5, 4), (0, 6)]\n",
            "[(2, 3), (1, 7), (5, 6), (0, 4)]\n",
            "[(2, 4), (1, 3), (5, 6), (0, 7)]\n",
            "[(2, 4), (1, 3), (5, 7), (0, 6)]\n",
            "[(2, 4), (1, 6), (5, 3), (0, 7)]\n",
            "[(2, 4), (1, 6), (5, 7), (0, 3)]\n",
            "[(2, 4), (1, 7), (5, 3), (0, 6)]\n",
            "[(2, 4), (1, 7), (5, 6), (0, 3)]\n",
            "[(2, 6), (1, 3), (5, 4), (0, 7)]\n",
            "[(2, 6), (1, 3), (5, 7), (0, 4)]\n",
            "[(2, 6), (1, 4), (5, 3), (0, 7)]\n",
            "[(2, 6), (1, 4), (5, 7), (0, 3)]\n",
            "[(2, 6), (1, 7), (5, 3), (0, 4)]\n",
            "[(2, 6), (1, 7), (5, 4), (0, 3)]\n",
            "[(2, 7), (1, 3), (5, 4), (0, 6)]\n",
            "[(2, 7), (1, 3), (5, 6), (0, 4)]\n",
            "[(2, 7), (1, 4), (5, 3), (0, 6)]\n",
            "[(2, 7), (1, 4), (5, 6), (0, 3)]\n",
            "[(2, 7), (1, 6), (5, 3), (0, 4)]\n",
            "[(2, 7), (1, 6), (5, 4), (0, 3)]\n",
            "[(2, 3), (5, 4), (0, 6), (1, 7)]\n",
            "[(2, 3), (5, 4), (0, 7), (1, 6)]\n",
            "[(2, 3), (5, 6), (0, 4), (1, 7)]\n",
            "[(2, 3), (5, 6), (0, 7), (1, 4)]\n",
            "[(2, 3), (5, 7), (0, 4), (1, 6)]\n",
            "[(2, 3), (5, 7), (0, 6), (1, 4)]\n",
            "[(2, 4), (5, 3), (0, 6), (1, 7)]\n",
            "[(2, 4), (5, 3), (0, 7), (1, 6)]\n",
            "[(2, 4), (5, 6), (0, 3), (1, 7)]\n",
            "[(2, 4), (5, 6), (0, 7), (1, 3)]\n",
            "[(2, 4), (5, 7), (0, 3), (1, 6)]\n",
            "[(2, 4), (5, 7), (0, 6), (1, 3)]\n",
            "[(2, 6), (5, 3), (0, 4), (1, 7)]\n",
            "[(2, 6), (5, 3), (0, 7), (1, 4)]\n",
            "[(2, 6), (5, 4), (0, 3), (1, 7)]\n",
            "[(2, 6), (5, 4), (0, 7), (1, 3)]\n",
            "[(2, 6), (5, 7), (0, 3), (1, 4)]\n",
            "[(2, 6), (5, 7), (0, 4), (1, 3)]\n",
            "[(2, 7), (5, 3), (0, 4), (1, 6)]\n",
            "[(2, 7), (5, 3), (0, 6), (1, 4)]\n",
            "[(2, 7), (5, 4), (0, 3), (1, 6)]\n",
            "[(2, 7), (5, 4), (0, 6), (1, 3)]\n",
            "[(2, 7), (5, 6), (0, 3), (1, 4)]\n",
            "[(2, 7), (5, 6), (0, 4), (1, 3)]\n",
            "[(2, 3), (5, 4), (1, 6), (0, 7)]\n",
            "[(2, 3), (5, 4), (1, 7), (0, 6)]\n",
            "[(2, 3), (5, 6), (1, 4), (0, 7)]\n",
            "[(2, 3), (5, 6), (1, 7), (0, 4)]\n",
            "[(2, 3), (5, 7), (1, 4), (0, 6)]\n",
            "[(2, 3), (5, 7), (1, 6), (0, 4)]\n",
            "[(2, 4), (5, 3), (1, 6), (0, 7)]\n",
            "[(2, 4), (5, 3), (1, 7), (0, 6)]\n",
            "[(2, 4), (5, 6), (1, 3), (0, 7)]\n",
            "[(2, 4), (5, 6), (1, 7), (0, 3)]\n",
            "[(2, 4), (5, 7), (1, 3), (0, 6)]\n",
            "[(2, 4), (5, 7), (1, 6), (0, 3)]\n",
            "[(2, 6), (5, 3), (1, 4), (0, 7)]\n",
            "[(2, 6), (5, 3), (1, 7), (0, 4)]\n",
            "[(2, 6), (5, 4), (1, 3), (0, 7)]\n",
            "[(2, 6), (5, 4), (1, 7), (0, 3)]\n",
            "[(2, 6), (5, 7), (1, 3), (0, 4)]\n",
            "[(2, 6), (5, 7), (1, 4), (0, 3)]\n",
            "[(2, 7), (5, 3), (1, 4), (0, 6)]\n",
            "[(2, 7), (5, 3), (1, 6), (0, 4)]\n",
            "[(2, 7), (5, 4), (1, 3), (0, 6)]\n",
            "[(2, 7), (5, 4), (1, 6), (0, 3)]\n",
            "[(2, 7), (5, 6), (1, 3), (0, 4)]\n",
            "[(2, 7), (5, 6), (1, 4), (0, 3)]\n",
            "[(5, 3), (0, 4), (1, 6), (2, 7)]\n",
            "[(5, 3), (0, 4), (1, 7), (2, 6)]\n",
            "[(5, 3), (0, 6), (1, 4), (2, 7)]\n",
            "[(5, 3), (0, 6), (1, 7), (2, 4)]\n",
            "[(5, 3), (0, 7), (1, 4), (2, 6)]\n",
            "[(5, 3), (0, 7), (1, 6), (2, 4)]\n",
            "[(5, 4), (0, 3), (1, 6), (2, 7)]\n",
            "[(5, 4), (0, 3), (1, 7), (2, 6)]\n",
            "[(5, 4), (0, 6), (1, 3), (2, 7)]\n",
            "[(5, 4), (0, 6), (1, 7), (2, 3)]\n",
            "[(5, 4), (0, 7), (1, 3), (2, 6)]\n",
            "[(5, 4), (0, 7), (1, 6), (2, 3)]\n",
            "[(5, 6), (0, 3), (1, 4), (2, 7)]\n",
            "[(5, 6), (0, 3), (1, 7), (2, 4)]\n",
            "[(5, 6), (0, 4), (1, 3), (2, 7)]\n",
            "[(5, 6), (0, 4), (1, 7), (2, 3)]\n",
            "[(5, 6), (0, 7), (1, 3), (2, 4)]\n",
            "[(5, 6), (0, 7), (1, 4), (2, 3)]\n",
            "[(5, 7), (0, 3), (1, 4), (2, 6)]\n",
            "[(5, 7), (0, 3), (1, 6), (2, 4)]\n",
            "[(5, 7), (0, 4), (1, 3), (2, 6)]\n",
            "[(5, 7), (0, 4), (1, 6), (2, 3)]\n",
            "[(5, 7), (0, 6), (1, 3), (2, 4)]\n",
            "[(5, 7), (0, 6), (1, 4), (2, 3)]\n",
            "[(5, 3), (0, 4), (2, 6), (1, 7)]\n",
            "[(5, 3), (0, 4), (2, 7), (1, 6)]\n",
            "[(5, 3), (0, 6), (2, 4), (1, 7)]\n",
            "[(5, 3), (0, 6), (2, 7), (1, 4)]\n",
            "[(5, 3), (0, 7), (2, 4), (1, 6)]\n",
            "[(5, 3), (0, 7), (2, 6), (1, 4)]\n",
            "[(5, 4), (0, 3), (2, 6), (1, 7)]\n",
            "[(5, 4), (0, 3), (2, 7), (1, 6)]\n",
            "[(5, 4), (0, 6), (2, 3), (1, 7)]\n",
            "[(5, 4), (0, 6), (2, 7), (1, 3)]\n",
            "[(5, 4), (0, 7), (2, 3), (1, 6)]\n",
            "[(5, 4), (0, 7), (2, 6), (1, 3)]\n",
            "[(5, 6), (0, 3), (2, 4), (1, 7)]\n",
            "[(5, 6), (0, 3), (2, 7), (1, 4)]\n",
            "[(5, 6), (0, 4), (2, 3), (1, 7)]\n",
            "[(5, 6), (0, 4), (2, 7), (1, 3)]\n",
            "[(5, 6), (0, 7), (2, 3), (1, 4)]\n",
            "[(5, 6), (0, 7), (2, 4), (1, 3)]\n",
            "[(5, 7), (0, 3), (2, 4), (1, 6)]\n",
            "[(5, 7), (0, 3), (2, 6), (1, 4)]\n",
            "[(5, 7), (0, 4), (2, 3), (1, 6)]\n",
            "[(5, 7), (0, 4), (2, 6), (1, 3)]\n",
            "[(5, 7), (0, 6), (2, 3), (1, 4)]\n",
            "[(5, 7), (0, 6), (2, 4), (1, 3)]\n",
            "[(5, 3), (1, 4), (0, 6), (2, 7)]\n",
            "[(5, 3), (1, 4), (0, 7), (2, 6)]\n",
            "[(5, 3), (1, 6), (0, 4), (2, 7)]\n",
            "[(5, 3), (1, 6), (0, 7), (2, 4)]\n",
            "[(5, 3), (1, 7), (0, 4), (2, 6)]\n",
            "[(5, 3), (1, 7), (0, 6), (2, 4)]\n",
            "[(5, 4), (1, 3), (0, 6), (2, 7)]\n",
            "[(5, 4), (1, 3), (0, 7), (2, 6)]\n",
            "[(5, 4), (1, 6), (0, 3), (2, 7)]\n",
            "[(5, 4), (1, 6), (0, 7), (2, 3)]\n",
            "[(5, 4), (1, 7), (0, 3), (2, 6)]\n",
            "[(5, 4), (1, 7), (0, 6), (2, 3)]\n",
            "[(5, 6), (1, 3), (0, 4), (2, 7)]\n",
            "[(5, 6), (1, 3), (0, 7), (2, 4)]\n",
            "[(5, 6), (1, 4), (0, 3), (2, 7)]\n",
            "[(5, 6), (1, 4), (0, 7), (2, 3)]\n",
            "[(5, 6), (1, 7), (0, 3), (2, 4)]\n",
            "[(5, 6), (1, 7), (0, 4), (2, 3)]\n",
            "[(5, 7), (1, 3), (0, 4), (2, 6)]\n",
            "[(5, 7), (1, 3), (0, 6), (2, 4)]\n",
            "[(5, 7), (1, 4), (0, 3), (2, 6)]\n",
            "[(5, 7), (1, 4), (0, 6), (2, 3)]\n",
            "[(5, 7), (1, 6), (0, 3), (2, 4)]\n",
            "[(5, 7), (1, 6), (0, 4), (2, 3)]\n",
            "[(5, 3), (1, 4), (2, 6), (0, 7)]\n",
            "[(5, 3), (1, 4), (2, 7), (0, 6)]\n",
            "[(5, 3), (1, 6), (2, 4), (0, 7)]\n",
            "[(5, 3), (1, 6), (2, 7), (0, 4)]\n",
            "[(5, 3), (1, 7), (2, 4), (0, 6)]\n",
            "[(5, 3), (1, 7), (2, 6), (0, 4)]\n",
            "[(5, 4), (1, 3), (2, 6), (0, 7)]\n",
            "[(5, 4), (1, 3), (2, 7), (0, 6)]\n",
            "[(5, 4), (1, 6), (2, 3), (0, 7)]\n",
            "[(5, 4), (1, 6), (2, 7), (0, 3)]\n",
            "[(5, 4), (1, 7), (2, 3), (0, 6)]\n",
            "[(5, 4), (1, 7), (2, 6), (0, 3)]\n",
            "[(5, 6), (1, 3), (2, 4), (0, 7)]\n",
            "[(5, 6), (1, 3), (2, 7), (0, 4)]\n",
            "[(5, 6), (1, 4), (2, 3), (0, 7)]\n",
            "[(5, 6), (1, 4), (2, 7), (0, 3)]\n",
            "[(5, 6), (1, 7), (2, 3), (0, 4)]\n",
            "[(5, 6), (1, 7), (2, 4), (0, 3)]\n",
            "[(5, 7), (1, 3), (2, 4), (0, 6)]\n",
            "[(5, 7), (1, 3), (2, 6), (0, 4)]\n",
            "[(5, 7), (1, 4), (2, 3), (0, 6)]\n",
            "[(5, 7), (1, 4), (2, 6), (0, 3)]\n",
            "[(5, 7), (1, 6), (2, 3), (0, 4)]\n",
            "[(5, 7), (1, 6), (2, 4), (0, 3)]\n",
            "[(5, 3), (2, 4), (0, 6), (1, 7)]\n",
            "[(5, 3), (2, 4), (0, 7), (1, 6)]\n",
            "[(5, 3), (2, 6), (0, 4), (1, 7)]\n",
            "[(5, 3), (2, 6), (0, 7), (1, 4)]\n",
            "[(5, 3), (2, 7), (0, 4), (1, 6)]\n",
            "[(5, 3), (2, 7), (0, 6), (1, 4)]\n",
            "[(5, 4), (2, 3), (0, 6), (1, 7)]\n",
            "[(5, 4), (2, 3), (0, 7), (1, 6)]\n",
            "[(5, 4), (2, 6), (0, 3), (1, 7)]\n",
            "[(5, 4), (2, 6), (0, 7), (1, 3)]\n",
            "[(5, 4), (2, 7), (0, 3), (1, 6)]\n",
            "[(5, 4), (2, 7), (0, 6), (1, 3)]\n",
            "[(5, 6), (2, 3), (0, 4), (1, 7)]\n",
            "[(5, 6), (2, 3), (0, 7), (1, 4)]\n",
            "[(5, 6), (2, 4), (0, 3), (1, 7)]\n",
            "[(5, 6), (2, 4), (0, 7), (1, 3)]\n",
            "[(5, 6), (2, 7), (0, 3), (1, 4)]\n",
            "[(5, 6), (2, 7), (0, 4), (1, 3)]\n",
            "[(5, 7), (2, 3), (0, 4), (1, 6)]\n",
            "[(5, 7), (2, 3), (0, 6), (1, 4)]\n",
            "[(5, 7), (2, 4), (0, 3), (1, 6)]\n",
            "[(5, 7), (2, 4), (0, 6), (1, 3)]\n",
            "[(5, 7), (2, 6), (0, 3), (1, 4)]\n",
            "[(5, 7), (2, 6), (0, 4), (1, 3)]\n",
            "[(5, 3), (2, 4), (1, 6), (0, 7)]\n",
            "[(5, 3), (2, 4), (1, 7), (0, 6)]\n",
            "[(5, 3), (2, 6), (1, 4), (0, 7)]\n",
            "[(5, 3), (2, 6), (1, 7), (0, 4)]\n",
            "[(5, 3), (2, 7), (1, 4), (0, 6)]\n",
            "[(5, 3), (2, 7), (1, 6), (0, 4)]\n",
            "[(5, 4), (2, 3), (1, 6), (0, 7)]\n",
            "[(5, 4), (2, 3), (1, 7), (0, 6)]\n",
            "[(5, 4), (2, 6), (1, 3), (0, 7)]\n",
            "[(5, 4), (2, 6), (1, 7), (0, 3)]\n",
            "[(5, 4), (2, 7), (1, 3), (0, 6)]\n",
            "[(5, 4), (2, 7), (1, 6), (0, 3)]\n",
            "[(5, 6), (2, 3), (1, 4), (0, 7)]\n",
            "[(5, 6), (2, 3), (1, 7), (0, 4)]\n",
            "[(5, 6), (2, 4), (1, 3), (0, 7)]\n",
            "[(5, 6), (2, 4), (1, 7), (0, 3)]\n",
            "[(5, 6), (2, 7), (1, 3), (0, 4)]\n",
            "[(5, 6), (2, 7), (1, 4), (0, 3)]\n",
            "[(5, 7), (2, 3), (1, 4), (0, 6)]\n",
            "[(5, 7), (2, 3), (1, 6), (0, 4)]\n",
            "[(5, 7), (2, 4), (1, 3), (0, 6)]\n",
            "[(5, 7), (2, 4), (1, 6), (0, 3)]\n",
            "[(5, 7), (2, 6), (1, 3), (0, 4)]\n",
            "[(5, 7), (2, 6), (1, 4), (0, 3)]\n",
            "The number of equivalent matchings is :  576\n"
          ]
        }
      ]
    },
    {
      "cell_type": "markdown",
      "source": [
        "**2. Execute the following code cell to create your matching. You must replace the number \"123456789\" with your 9-digit student ID number.**"
      ],
      "metadata": {
        "id": "syjejTS3sA-C"
      }
    },
    {
      "cell_type": "code",
      "source": [
        "from project import create_partial_matching\n",
        "\n",
        "#Replace \"123456789\" in the following line with your 9-digit student ID number\n",
        "my_partial_matching=create_partial_matching(123456789)\n",
        "\n",
        "#Replace \"123456789\" in the previous Line with your 9-digit student ID number\n"
      ],
      "metadata": {
        "id": "gvWfENBNsVyw"
      },
      "execution_count": null,
      "outputs": []
    },
    {
      "cell_type": "markdown",
      "source": [
        "**3. For your personal partial matching, print out the following information:**\n",
        "\n",
        "* **a list of the pairs with missing data**\n",
        "* **a list of all missing numbers**\n",
        "* **the number of ways the partial matching can be completed to a valid (1) matching (but not the completed matchings themselves).**\n",
        "\n",
        "**Note: Do not print out anything else.**"
      ],
      "metadata": {
        "id": "5VSO_cT3sd1y"
      }
    },
    {
      "cell_type": "code",
      "source": [
        "#"
      ],
      "metadata": {
        "id": "wqkXM4KdtAla"
      },
      "execution_count": null,
      "outputs": []
    }
  ]
}